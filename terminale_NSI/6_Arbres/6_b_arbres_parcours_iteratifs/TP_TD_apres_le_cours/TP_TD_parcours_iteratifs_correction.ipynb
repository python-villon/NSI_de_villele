{
 "cells": [
  {
   "cell_type": "markdown",
   "metadata": {},
   "source": [
    "# I : Rappels sur les parcours récursifs préfixe, infixe et postfixe"
   ]
  },
  {
   "cell_type": "markdown",
   "metadata": {},
   "source": [
    "Nous allons ici ré-exploiter ce qui a été fait dans la partie I du cours sur les arbres binaires. Nous allons donc disposer de la classe `Noeud` ainsi que des fonctions `taille, hauteur, copie, schema, arbre_parfait, somme, maximum` et `minimum`.  \n",
    "Ces fonctionnalités sont à disposition dans le module `arbres_binaires` (n'hésitez pas à ouvrir le fichier `arbres_binaires.py`). Les fonctions `schema` et `arbre_parfait` n'avaient pas été étudiées en détail, voici leur aide :"
   ]
  },
  {
   "cell_type": "code",
   "execution_count": null,
   "metadata": {},
   "outputs": [],
   "source": [
    "from arbres_binaires import*\n",
    "help(schema)\n",
    "help(arbre_parfait)\n",
    "schema(arbre_parfait(3))"
   ]
  },
  {
   "cell_type": "markdown",
   "metadata": {},
   "source": [
    "<div class = \"alert alert-info\">\n",
    "\n",
    "\n",
    "**Question :**  \n",
    "Vérifier que vous êtes toujours capable de comprendre le code suivant :"
   ]
  },
  {
   "cell_type": "code",
   "execution_count": null,
   "metadata": {},
   "outputs": [],
   "source": [
    "brique = Noeud('N', \n",
    "          Noeud('S', None, None),\n",
    "          Noeud('I', None, None))\n",
    "\n",
    "n = copie(brique)\n",
    "n.gauche.gauche = copie(brique)\n",
    "n.droit.droit = copie(brique)\n",
    "n.gauche.gauche.valeur = '\\u2605'\n",
    "n.droit.droit.valeur = '\\u2606'\n",
    "\n",
    "schema(n)"
   ]
  },
  {
   "cell_type": "markdown",
   "metadata": {},
   "source": [
    "<div class = \"alert alert-info\">\n",
    "\n",
    "\n",
    "**Question :**  \n",
    "Donner l'ordre de parcours des sommets de l'arbre parfait ci-dessus (celui dont les sommets sont étiquetés de 1 à 7, situé au-dessus de celui avec des N, S, I et étoiles) lorsqu'on effectue :\n",
    "\n",
    "- un parcours préfixe,\n",
    "- un parcours infixe,\n",
    "- un parcours suffixe.\n",
    "    \n",
    "Se remémorer ensuite pourquoi on parle de parcours en *profondeur*."
   ]
  },
  {
   "cell_type": "code",
   "execution_count": null,
   "metadata": {},
   "outputs": [],
   "source": []
  },
  {
   "cell_type": "markdown",
   "metadata": {},
   "source": [
    "<div class = \"alert alert-danger\">\n",
    "\n",
    "\n",
    "# Correction"
   ]
  },
  {
   "cell_type": "markdown",
   "metadata": {},
   "source": [
    "```\n",
    ". 1, 2, 4, 5, 3, 6, 7\n",
    ". 4, 2, 5, 1, 6, 3, 7\n",
    ". 4, 5, 2, 6, 7, 3, 1\n",
    "```"
   ]
  },
  {
   "cell_type": "markdown",
   "metadata": {},
   "source": [
    "<div class = \"alert alert-info\">\n",
    "\n",
    "\n",
    "**Question :**  \n",
    "Rajouter ci-dessous les codes des deux fonctions `infixe` et `suffixe` permettant d'afficher les résultats de ces parcours. Vérifier votre réponse de la question précédente."
   ]
  },
  {
   "cell_type": "code",
   "execution_count": null,
   "metadata": {},
   "outputs": [],
   "source": [
    "def prefixe(arbre):\n",
    "    if arbre != None:\n",
    "        print(arbre.valeur)\n",
    "        prefixe(arbre.gauche)\n",
    "        prefixe(arbre.droit)\n",
    "        \n",
    "def infixe(arbre):\n",
    "    pass\n",
    "\n",
    "def postfixe(arbre):\n",
    "    pass"
   ]
  },
  {
   "cell_type": "markdown",
   "metadata": {},
   "source": [
    "<div class = \"alert alert-danger\">\n",
    "\n",
    "\n",
    "# Correction"
   ]
  },
  {
   "cell_type": "code",
   "execution_count": null,
   "metadata": {},
   "outputs": [],
   "source": [
    "def prefixe(arbre):\n",
    "    if arbre != None:\n",
    "        print(arbre.valeur)\n",
    "        prefixe(arbre.gauche)\n",
    "        prefixe(arbre.droit)\n",
    "        \n",
    "def infixe(arbre):\n",
    "    if arbre != None:\n",
    "        infixe(arbre.gauche)\n",
    "        print(arbre.valeur)\n",
    "        infixe(arbre.droit)\n",
    "\n",
    "def postfixe(arbre):\n",
    "    if arbre != None:\n",
    "        postfixe(arbre.gauche)\n",
    "        postfixe(arbre.droit)   \n",
    "        print(arbre.valeur)"
   ]
  },
  {
   "cell_type": "code",
   "execution_count": null,
   "metadata": {},
   "outputs": [],
   "source": [
    "infixe(arbre_parfait(3))"
   ]
  },
  {
   "cell_type": "markdown",
   "metadata": {},
   "source": [
    "# II : parcours itératif en largeur"
   ]
  },
  {
   "cell_type": "markdown",
   "metadata": {},
   "source": [
    "On pourra utiliser le module `xile` qui met à disposition des classes `File, Pile` et `Liste` qui disposent toutes des trois des méthodes `est_vide(), ajouter` et `extraire` (on utilisera `help` ou on consultera le code du module pour plus de détails, mais normalement ce n'est pas nécessaire)."
   ]
  },
  {
   "cell_type": "markdown",
   "metadata": {},
   "source": [
    "<div class = \"alert alert-info\">\n",
    "\n",
    "\n",
    "**Question :**  \n",
    "Programmer ci-dessous un algorithme itératif de parcours en largeur.  \n",
    "    \n",
    "On testera l'algorithme grâce à la fonction `arbre_parfait` et à l'arbre `n` donnés au début du I."
   ]
  },
  {
   "cell_type": "code",
   "execution_count": null,
   "metadata": {},
   "outputs": [],
   "source": [
    "from xile import*"
   ]
  },
  {
   "cell_type": "code",
   "execution_count": null,
   "metadata": {},
   "outputs": [],
   "source": [
    "help(Liste)"
   ]
  },
  {
   "cell_type": "markdown",
   "metadata": {},
   "source": [
    "<div class = \"alert alert-danger\">\n",
    "\n",
    "\n",
    "# Correction"
   ]
  },
  {
   "cell_type": "code",
   "execution_count": null,
   "metadata": {},
   "outputs": [],
   "source": [
    "def parcours_largeur(arbre):\n",
    "    '''\n",
    "    Renvoie une liste (classe Liste) avec les valeurs des noeuds.\n",
    "    '''\n",
    "    arbres_en_attente = File()\n",
    "    sommets_visites = Liste()\n",
    "    \n",
    "    sommets_visites.ajouter(arbre.valeur)\n",
    "    arbres_en_attente.ajouter(arbre.gauche)\n",
    "    arbres_en_attente.ajouter(arbre.droit)\n",
    "    \n",
    "    while not arbres_en_attente.est_vide():\n",
    "        arb = arbres_en_attente.extraire()\n",
    "        if not arb == None:\n",
    "            sommets_visites.ajouter(arb.valeur)\n",
    "            arbres_en_attente.ajouter(arb.gauche)\n",
    "            arbres_en_attente.ajouter(arb.droit)\n",
    "    return sommets_visites   "
   ]
  },
  {
   "cell_type": "code",
   "execution_count": null,
   "metadata": {},
   "outputs": [],
   "source": [
    "parcours_largeur(arbre_parfait(3))"
   ]
  },
  {
   "cell_type": "markdown",
   "metadata": {},
   "source": [
    "<div class = \"alert alert-info\">\n",
    "\n",
    "\n",
    "**Question :**  \n",
    "Programmer ci-dessous un algorithme itératif de parcours en profondeur.  \n",
    "    \n",
    "On testera l'algorithme grâce à la fonction `arbre_parfait` et à l'arbre `n` donnés au début du I."
   ]
  },
  {
   "cell_type": "code",
   "execution_count": null,
   "metadata": {},
   "outputs": [],
   "source": []
  },
  {
   "cell_type": "code",
   "execution_count": null,
   "metadata": {},
   "outputs": [],
   "source": [
    "parcours_profondeur(arbre_parfait(3))"
   ]
  },
  {
   "cell_type": "markdown",
   "metadata": {},
   "source": [
    "<div class = \"alert alert-danger\">\n",
    "\n",
    "\n",
    "# Correction"
   ]
  },
  {
   "cell_type": "code",
   "execution_count": null,
   "metadata": {},
   "outputs": [],
   "source": [
    "def parcours_profondeur(arbre):\n",
    "    '''\n",
    "    Renvoie une liste (classe Liste) avec les valeurs des noeuds.\n",
    "    '''\n",
    "    arbres_en_attente = Pile()\n",
    "    sommets_visites = Liste()\n",
    "    \n",
    "    sommets_visites.ajouter(arbre.valeur)\n",
    "    arbres_en_attente.ajouter(arbre.droit)\n",
    "    arbres_en_attente.ajouter(arbre.gauche)\n",
    "    \n",
    "    while not arbres_en_attente.est_vide():\n",
    "        arb = arbres_en_attente.extraire()\n",
    "        if not arb == None:\n",
    "            sommets_visites.ajouter(arb.valeur)\n",
    "            arbres_en_attente.ajouter(arb.droit)\n",
    "            arbres_en_attente.ajouter(arb.gauche)\n",
    "    return sommets_visites  "
   ]
  },
  {
   "cell_type": "code",
   "execution_count": null,
   "metadata": {},
   "outputs": [],
   "source": []
  }
 ],
 "metadata": {
  "kernelspec": {
   "display_name": "Python 3",
   "language": "python",
   "name": "python3"
  },
  "language_info": {
   "codemirror_mode": {
    "name": "ipython",
    "version": 3
   },
   "file_extension": ".py",
   "mimetype": "text/x-python",
   "name": "python",
   "nbconvert_exporter": "python",
   "pygments_lexer": "ipython3",
   "version": "3.8.2"
  }
 },
 "nbformat": 4,
 "nbformat_minor": 4
}

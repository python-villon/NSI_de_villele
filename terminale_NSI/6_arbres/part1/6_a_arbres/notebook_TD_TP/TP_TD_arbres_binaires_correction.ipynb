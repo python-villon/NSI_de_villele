{
 "cells": [
  {
   "cell_type": "code",
   "execution_count": null,
   "metadata": {},
   "outputs": [],
   "source": [
    "from metakernel import register_ipython_magics\n",
    "register_ipython_magics()"
   ]
  },
  {
   "cell_type": "markdown",
   "metadata": {},
   "source": [
    "# I : Représentation d'arbres binaires avec une classe `Noeud`\n",
    "\n",
    "\n"
   ]
  },
  {
   "cell_type": "markdown",
   "metadata": {},
   "source": [
    "Dans le cadre d'un arbre binaire étiqueté, un noeud est assez simple et se réduit à trois informations :\n",
    "- la valeur de l'étiquette,\n",
    "- le sous-arbre gauche (ou plutôt sa racine s'il est non vide),\n",
    "- le sous-arbre droit (ou plutôt sa racine s'il est non vide).\n",
    "\n",
    "Dès lors une classe `Noeud` est très simple à coder en langage Python :"
   ]
  },
  {
   "cell_type": "code",
   "execution_count": null,
   "metadata": {},
   "outputs": [],
   "source": [
    "class Noeud:\n",
    "    '''Classe implémentant un noeud d'un arbre binaire étiqueté'''\n",
    "    \n",
    "    def __init__(self, v, g, d):\n",
    "        self.valeur = v\n",
    "        self.gauche = g\n",
    "        self.droit = d"
   ]
  },
  {
   "cell_type": "markdown",
   "metadata": {},
   "source": [
    "Muni de cette classe on peut construire un arbre binaire en assimilant l'arbre vide à `None`:"
   ]
  },
  {
   "cell_type": "code",
   "execution_count": null,
   "metadata": {},
   "outputs": [],
   "source": [
    "a = Noeud('A', \n",
    "          Noeud('B',\n",
    "                 Noeud('D', \n",
    "                        None,\n",
    "                        None),\n",
    "                 None),\n",
    "          Noeud('C',\n",
    "                 None,\n",
    "                 Noeud('E',\n",
    "                       None,\n",
    "                       Noeud('F',\n",
    "                              None,\n",
    "                              None))))"
   ]
  },
  {
   "cell_type": "markdown",
   "metadata": {},
   "source": [
    "<div class = \"alert alert-info\">\n",
    "\n",
    "\n",
    "**Question 1 :**  \n",
    "    \n",
    "Faire un schéma de l'arbe binaire créé par le code ci-dessus."
   ]
  },
  {
   "cell_type": "markdown",
   "metadata": {},
   "source": [
    "<div class = \"alert alert-info\">  \n",
    "\n",
    "\n",
    "**Question 2 :**  \n",
    "Modifier l'instruction ci-dessous pour coder l'arbre binaire suivant :\n",
    "\n",
    "<img src=\"datas/image0.png\" />\n",
    "    \n",
    "On l'affectera à une variable `mon_arbre_b`.  \n",
    "Pour vérifier le résultat, si vous avez installé graphviz sur votre machine, vous pourrez exécuter la cellule située en dessous."
   ]
  },
  {
   "cell_type": "code",
   "execution_count": null,
   "metadata": {},
   "outputs": [],
   "source": [
    "mon_arbre_b = Noeud(7, None, None) #à modifier"
   ]
  },
  {
   "cell_type": "code",
   "execution_count": null,
   "metadata": {},
   "outputs": [],
   "source": [
    "from vizu_arbreb import VizuArbreB\n",
    "\n",
    "v = VizuArbreB(mon_arbre_b)"
   ]
  },
  {
   "cell_type": "markdown",
   "metadata": {},
   "source": [
    "<div class = \"alert alert-danger\">  \n",
    "\n",
    "# Correction"
   ]
  },
  {
   "cell_type": "code",
   "execution_count": null,
   "metadata": {},
   "outputs": [],
   "source": [
    "mon_arbre_b = Noeud(7, \n",
    "                      None,\n",
    "                      Noeud(13,\n",
    "                             Noeud(1,\n",
    "                                    None,\n",
    "                                    None),\n",
    "                             Noeud(2,\n",
    "                                   None,\n",
    "                                   None)))"
   ]
  },
  {
   "cell_type": "markdown",
   "metadata": {},
   "source": [
    "Cette façon de construire un arbre présente un inconvénient : le fait de faire une seule instruction empêche de construire l'arbre au fur et à mesure. On peut faire autrement : il suffit de modifier les attributs `gauche` ou `droit` du sous-arbre que l'on souhaite modifier pour y \"accrocher\" un noeud ou un arbre binaire.  \n",
    "\n",
    "Par exemple pour rajouter un noeud d'étiquette `99` en fils droit du noeud d'étiquette `1` on peut faire :"
   ]
  },
  {
   "cell_type": "code",
   "execution_count": null,
   "metadata": {},
   "outputs": [],
   "source": [
    "from vizu_arbreb import VizuArbreB\n",
    "\n",
    "n = Noeud(99, None, None)\n",
    "mon_arbre_b.droit.gauche.droit = n\n",
    "v = VizuArbreB(mon_arbre_b)"
   ]
  },
  {
   "cell_type": "markdown",
   "metadata": {},
   "source": [
    "<div class = \"alert alert-info\">  \n",
    "\n",
    "\n",
    "**Question 3 :**  \n",
    "Ecrire l'instruction permettant de muter `mon_arbre_b` afin d'obtenir l'arbre binaire suivant :\n",
    "\n",
    "<img src=\"datas/image1.png\" />\n",
    "    \n",
    "On créera pour cela un arbre binaire `mon_patch_correctif` correspondant aux 3 noeuds d'étiquettes `113, 66` et `77` que l'on \"accrochera\" à deux endroits différents de `mon_arbre_b`."
   ]
  },
  {
   "cell_type": "code",
   "execution_count": null,
   "metadata": {},
   "outputs": [],
   "source": []
  },
  {
   "cell_type": "markdown",
   "metadata": {},
   "source": [
    "<div class = \"alert alert-danger\">  \n",
    "\n",
    "# Correction"
   ]
  },
  {
   "cell_type": "code",
   "execution_count": null,
   "metadata": {},
   "outputs": [],
   "source": [
    "mon_patch_correctif = Noeud(113, \n",
    "          Noeud(66,\n",
    "                None,\n",
    "                None), \n",
    "          Noeud(77,\n",
    "                None,\n",
    "                None))\n",
    "mon_arbre_b.droit.droit.gauche = mon_patch_correctif\n",
    "mon_arbre_b.gauche = mon_patch_correctif"
   ]
  },
  {
   "cell_type": "code",
   "execution_count": null,
   "metadata": {},
   "outputs": [],
   "source": [
    "v = VizuArbreB(mon_arbre_b)"
   ]
  },
  {
   "cell_type": "markdown",
   "metadata": {},
   "source": [
    "<div class = \"alert alert-info\">  \n",
    "\n",
    "\n",
    "**Question 4 :**  \n",
    "Modifier le fils gauche du noeud d'étiquette 7 et lui donner la valeur 999.\n",
    "    \n",
    "Observer ce que cela provoque.\n",
    "    \n",
    "Expliquer pourquoi cela se produit (confere %%pythontutor)."
   ]
  },
  {
   "cell_type": "code",
   "execution_count": null,
   "metadata": {},
   "outputs": [],
   "source": []
  },
  {
   "cell_type": "markdown",
   "metadata": {},
   "source": [
    "<div class = \"alert alert-danger\">  \n",
    "\n",
    "# Correction"
   ]
  },
  {
   "cell_type": "code",
   "execution_count": null,
   "metadata": {},
   "outputs": [],
   "source": [
    "mon_arbre_b.gauche.valeur = 999\n",
    "\n",
    "v = VizuArbreB(mon_arbre_b)"
   ]
  },
  {
   "cell_type": "markdown",
   "metadata": {},
   "source": [
    "En mémoire, on mute un noeud qui est référencé deux fois par l'entremise de l'arbre `mon_patch_correctif` : lorsqu'on le fait muter cela affecte toutes les références.\n",
    "Pour éviter cela il aurait fallu accrocher des copies de l'arbre `mon_patch_correctif`."
   ]
  },
  {
   "cell_type": "markdown",
   "metadata": {},
   "source": [
    "# II : quelques algorithmes : taille, hauteur, parcours (valeur maximale & somme des valeurs), copie ..."
   ]
  },
  {
   "cell_type": "markdown",
   "metadata": {},
   "source": [
    "<div class = \"alert alert-danger\">\n",
    "\n",
    "Les algorithmes sur les arbres binaires doivent très souvent être pensés en récursif. \n",
    "Autrement dit lorsque vous avez un `Algo` à appliquer sur un arbre binaire `a` vous devez essayer de trouver une stratégie du type :  \n",
    "    \n",
    "    \n",
    "    `Algo(a)  <----> prendre en compte : a.valeur  et Algo(a.gauche) et Algo(a.droit)`\n",
    "    \n",
    "Tout en pensant au cas de base (qui dans le cas des arbres binaires est souvent le cas de l'arbre vide).\n"
   ]
  },
  {
   "cell_type": "markdown",
   "metadata": {},
   "source": [
    "Pour tester tout ce qui suit on utilisera l'arbre binaire `a` suivant dont les étiquettes sont des nombres entiers : parler de somme ou de valeur maximale a donc du sens."
   ]
  },
  {
   "cell_type": "code",
   "execution_count": null,
   "metadata": {},
   "outputs": [],
   "source": [
    "from vizu_arbreb import VizuArbreB\n",
    "\n",
    "a = Noeud(5, \n",
    "          Noeud(6,\n",
    "                 Noeud(1,\n",
    "                        None,\n",
    "                        None),\n",
    "                 Noeud(2,\n",
    "                       Noeud(13,\n",
    "                             None,\n",
    "                             Noeud(0,\n",
    "                                   None,\n",
    "                                   None)),\n",
    "                       None)),\n",
    "          Noeud(7,\n",
    "                 None,\n",
    "                 Noeud(77,\n",
    "                       None,\n",
    "                       None)))\n",
    "v = VizuArbreB(a)"
   ]
  },
  {
   "cell_type": "markdown",
   "metadata": {},
   "source": [
    "## II.1 ) Calcul de la taille d'un arbre binaire"
   ]
  },
  {
   "cell_type": "markdown",
   "metadata": {},
   "source": [
    "<div class = \"alert alert-info\">  \n",
    "\n",
    "\n",
    "**Question 5.1:**  \n",
    "\n",
    "- Compléter la formule de récursivité suivante :\n",
    "    \n",
    "    `taille(arbre) = ... taille(arbre.gauche) ... taille(arbre.droit) ...`  \n",
    "    \n",
    "\n",
    "- Quelle est la taille de l'arbre vide ?   \n",
    "    \n",
    "    \n",
    "- Compléter la fonction `taille` suivante pour qu'elle renvoie la taille de l'arbre binaire passé en argument.   "
   ]
  },
  {
   "cell_type": "code",
   "execution_count": null,
   "metadata": {},
   "outputs": [],
   "source": [
    "def taille(arbre):\n",
    "    if arbre == None :\n",
    "        pass\n",
    "    else :\n",
    "        pass"
   ]
  },
  {
   "cell_type": "markdown",
   "metadata": {},
   "source": [
    "<div class = \"alert alert-danger\">  \n",
    "\n",
    "# Correction"
   ]
  },
  {
   "cell_type": "code",
   "execution_count": null,
   "metadata": {},
   "outputs": [],
   "source": [
    "def taille(arbre):\n",
    "    if arbre == None : \n",
    "        return 0\n",
    "    else :\n",
    "        t = 1 + taille(arbre.gauche) + taille(arbre.droit)\n",
    "        return t"
   ]
  },
  {
   "cell_type": "code",
   "execution_count": null,
   "metadata": {},
   "outputs": [],
   "source": [
    "assert taille(a) == 8"
   ]
  },
  {
   "cell_type": "markdown",
   "metadata": {},
   "source": [
    "## II.2 ) Calcul de la hauteur d'un arbre binaire"
   ]
  },
  {
   "cell_type": "markdown",
   "metadata": {},
   "source": [
    "<div class = \"alert alert-info\">  \n",
    "\n",
    "    \n",
    "**Question 5.2:**  \n",
    "\n",
    "- Compléter la formule de récursivité suivante :\n",
    "    \n",
    "    `hauteur(arbre) = ... hauteur(arbre.gauche) ... hauteur(arbre.droit) ...`  \n",
    "    \n",
    "  Il faudra pour cela utiliser un `if ... else ... `\n",
    "    \n",
    "\n",
    "- Quelle est la hauteur de l'arbre vide ?  \n",
    "    \n",
    "    \n",
    "- Compléter la fonction `hauteur` suivante pour qu'elle renvoie la hauteur de l'arbre binaire passé en argument.   "
   ]
  },
  {
   "cell_type": "code",
   "execution_count": null,
   "metadata": {},
   "outputs": [],
   "source": [
    "def hauteur(arbre):\n",
    "    if arbre == None :\n",
    "        pass\n",
    "    else :\n",
    "        pass"
   ]
  },
  {
   "cell_type": "markdown",
   "metadata": {},
   "source": [
    "<div class = \"alert alert-danger\">  \n",
    "\n",
    "# Correction"
   ]
  },
  {
   "cell_type": "code",
   "execution_count": null,
   "metadata": {},
   "outputs": [],
   "source": [
    "def hauteur(arbre):\n",
    "    if arbre == None : \n",
    "        return 0\n",
    "    else :\n",
    "        h = 1 + max(hauteur(arbre.gauche), hauteur(arbre.droit))\n",
    "        return h"
   ]
  },
  {
   "cell_type": "code",
   "execution_count": null,
   "metadata": {},
   "outputs": [],
   "source": [
    "assert hauteur(a) == 5"
   ]
  },
  {
   "cell_type": "markdown",
   "metadata": {},
   "source": [
    "## II.3 ) Calcul de la somme des valeurs entières d'un arbre binaire"
   ]
  },
  {
   "cell_type": "markdown",
   "metadata": {},
   "source": [
    "<div class = \"alert alert-info\">  \n",
    "\n",
    "    \n",
    "**Question 5.3:**  \n",
    "\n",
    "- Compléter la formule de récursivité suivante :\n",
    "    \n",
    "    `somme(arbre) = ...arbre.valeur ... somme(arbre.gauche) ... somme(arbre.droit) ...` \n",
    "    \n",
    "\n",
    "- Quelle est la somme des valeurs de l'arbre vide ?  \n",
    "    \n",
    "    \n",
    "- Compléter la fonction `somme` suivante pour qu'elle renvoie la somme des valeurs de l'arbre binaire passé en argument.   "
   ]
  },
  {
   "cell_type": "code",
   "execution_count": null,
   "metadata": {},
   "outputs": [],
   "source": [
    "def somme(arbre):\n",
    "    if arbre == None :\n",
    "        pass\n",
    "    else :\n",
    "        pass"
   ]
  },
  {
   "cell_type": "markdown",
   "metadata": {},
   "source": [
    "<div class = \"alert alert-danger\">  \n",
    "\n",
    "# Correction"
   ]
  },
  {
   "cell_type": "code",
   "execution_count": null,
   "metadata": {},
   "outputs": [],
   "source": [
    "def somme(arbre):\n",
    "    if arbre == None : \n",
    "        return 0\n",
    "    else :\n",
    "        s = arbre.valeur + somme(arbre.gauche) + somme(arbre.droit)\n",
    "        return s"
   ]
  },
  {
   "cell_type": "code",
   "execution_count": null,
   "metadata": {},
   "outputs": [],
   "source": [
    "assert somme(a) == 111"
   ]
  },
  {
   "cell_type": "markdown",
   "metadata": {},
   "source": [
    "## II.4 ) Calcul de la plus grande des valeurs entières d'un arbre binaire"
   ]
  },
  {
   "cell_type": "markdown",
   "metadata": {},
   "source": [
    "<div class = \"alert alert-info\">  \n",
    "\n",
    "    \n",
    "**Question 5.4 :**  \n",
    "Compléter la fonction `maximum` suivante pour qu'elle renvoie la plus grande des valeurs de l'arbre binaire passé en argument.   \n",
    "    \n",
    "On pourra utiliser la fonction `max` de python qui renvoie le maximum des nombres passés en argument."
   ]
  },
  {
   "cell_type": "code",
   "execution_count": null,
   "metadata": {},
   "outputs": [],
   "source": [
    "def maximum(arbre):\n",
    "    pass"
   ]
  },
  {
   "cell_type": "markdown",
   "metadata": {},
   "source": [
    "<div class = \"alert alert-danger\">  \n",
    "\n",
    "# Correction"
   ]
  },
  {
   "cell_type": "code",
   "execution_count": null,
   "metadata": {},
   "outputs": [],
   "source": [
    "def maximum(arbre):\n",
    "    if arbre == None : \n",
    "        return 0\n",
    "    else :\n",
    "        m = max(arbre.valeur, maximum(arbre.gauche), maximum(arbre.droit))\n",
    "        return m"
   ]
  },
  {
   "cell_type": "code",
   "execution_count": null,
   "metadata": {},
   "outputs": [],
   "source": [
    "assert maximum(a) == 77"
   ]
  },
  {
   "cell_type": "markdown",
   "metadata": {},
   "source": [
    "## II.5 ) Copie d'un arbre binaire"
   ]
  },
  {
   "cell_type": "markdown",
   "metadata": {},
   "source": [
    "<div class = \"alert alert-info\">  \n",
    "\n",
    "    \n",
    "**Question 5.5 :** \n",
    "- Au vu de la question 4, quel est l'intérêt de faire une copie d'un objet ?  \n",
    "    \n",
    "    \n",
    "- Pour quel type de structure de données intégrée à Python avons nous déjà parlé de cette problématique ?  \n",
    "    \n",
    "   \n",
    "- Compléter la fonction `copie` suivante pour qu'elle renvoie une copie de l'arbre binaire passé en argument.    \n",
    "    \n",
    "    \n"
   ]
  },
  {
   "cell_type": "code",
   "execution_count": null,
   "metadata": {},
   "outputs": [],
   "source": [
    "def copie(arbre):\n",
    "    pass"
   ]
  },
  {
   "cell_type": "markdown",
   "metadata": {},
   "source": [
    "<div class = \"alert alert-danger\">  \n",
    "\n",
    "# Correction"
   ]
  },
  {
   "cell_type": "code",
   "execution_count": null,
   "metadata": {},
   "outputs": [],
   "source": [
    "def copie(arbre):\n",
    "    if arbre == None : \n",
    "        return None\n",
    "    else :\n",
    "        c = Noeud(arbre.valeur, copie(arbre.gauche), copie(arbre.droit))\n",
    "        return c"
   ]
  },
  {
   "cell_type": "code",
   "execution_count": null,
   "metadata": {},
   "outputs": [],
   "source": [
    "c = copie(a)\n",
    "v = VizuArbreB(c)\n",
    "assert id(c) != id(a)"
   ]
  },
  {
   "cell_type": "markdown",
   "metadata": {},
   "source": [
    "<div class = \"alert alert-info\">  \n",
    "\n",
    "    \n",
    "**Question 5.6 :** \n",
    "- Au vu de la question 4 et en utilisant la question 5.5, écrire ci-dessous les instructions permettant d'obtenir l'arbre binaire suivant à partir de l'arbre binaire `brique` **sachant qu'une modification ultérieure d'une des valeurs d'un noeud ne devra pas se répercuter sur un autre noeud**.\n",
    "    \n",
    "    \n",
    "<img src=\"datas/image2.png\">\n",
    "    \n"
   ]
  },
  {
   "cell_type": "code",
   "execution_count": null,
   "metadata": {},
   "outputs": [],
   "source": [
    "brique = Noeud(3,\n",
    "               Noeud(4, \n",
    "                     None, \n",
    "                     None),\n",
    "               Noeud(5, \n",
    "                     None,\n",
    "                     None))\n",
    "\n",
    "\n",
    "#à compléter"
   ]
  },
  {
   "cell_type": "markdown",
   "metadata": {},
   "source": [
    "<div class = \"alert alert-danger\">  \n",
    "\n",
    "# Correction"
   ]
  },
  {
   "cell_type": "code",
   "execution_count": null,
   "metadata": {},
   "outputs": [],
   "source": [
    "a = copie(brique)\n",
    "a.gauche.gauche = copie(brique)\n",
    "a.gauche.droit = copie(brique)\n",
    "a.droit.gauche = copie(brique)\n",
    "a.droit.droit = copie(brique)\n",
    "\n",
    "v = VizuArbreB(a)"
   ]
  },
  {
   "cell_type": "code",
   "execution_count": null,
   "metadata": {},
   "outputs": [],
   "source": [
    "a.droit.droit.valeur = 7\n",
    "v = VizuArbreB(a)"
   ]
  },
  {
   "cell_type": "markdown",
   "metadata": {},
   "source": [
    "# III : ordre de parcours d'un arbre : comprendre la pile d'appels"
   ]
  },
  {
   "cell_type": "markdown",
   "metadata": {},
   "source": [
    "<div class = \"alert alert-danger\">\n",
    "\n",
    "**Commençons par une première évidence : dans les algorithmes vus au II (hauteur, taille, somme, maximum), si on intervertit entre elles les valeurs des différents noeuds d'un arbre, la valeur renvoyée reste la même.**  \n",
    "\n",
    "    \n",
    "**Poursuivons par une seconde évidence : dans les algorithmes mis en place plus haut nous avons *parcouru*  récursivement les arbres puisqu'il nous a fallu *visiter* chacun des noeuds.**\n",
    "\n",
    "    \n",
    "**Compte-tenu de ces deux remarques, nous ne nous sommes jamais posé la question suivante : Dans quel ordre un arbre est-il parcouru ? Est-ce que c'est le code du programmeur ou la machine qui choisit dans quel ordre parcourir les sommets en récursif ?**\n",
    "\n",
    "    \n",
    "C'est ce à quoi nous allons nous intéresser."
   ]
  },
  {
   "cell_type": "markdown",
   "metadata": {},
   "source": [
    "Considérons l'arbre binaire parfait `a` suivant (remarquer l'*élégance* du code récursif permettant de le générer) :"
   ]
  },
  {
   "cell_type": "code",
   "execution_count": null,
   "metadata": {},
   "outputs": [],
   "source": [
    "from vizu_arbreb import VizuArbreB\n",
    "\n",
    "def arbre_parfait(k, valeur):\n",
    "    if k == 0:\n",
    "        return None\n",
    "    else:\n",
    "        return Noeud(valeur, arbre_parfait(k-1, 2*valeur), arbre_parfait(k-1, 2*valeur + 1) )\n",
    "    \n",
    "ap = arbre_parfait(5, 1)\n",
    "v = VizuArbreB(ap)"
   ]
  },
  {
   "cell_type": "markdown",
   "metadata": {},
   "source": [
    "<div class = \"alert alert-info\">\n",
    "\n",
    "\n",
    "**Question :**\n",
    "    \n",
    "- Ecrire une fonction récursive `afficher` qui affiche (grâce à `print`) les valeurs de tous les sommets de l'arbre.\n",
    "    \n",
    "    \n",
    "- Modifier votre fonction pour que les valeurs soient affichées dans un ordre différent.\n",
    "    \n",
    "    \n",
    "- Sauriez vous obtenir en tout six affichages dans des ordres différents de toutes les valeurs ?  "
   ]
  },
  {
   "cell_type": "code",
   "execution_count": null,
   "metadata": {},
   "outputs": [],
   "source": [
    "def afficher(arbre):\n",
    "    pass"
   ]
  },
  {
   "cell_type": "markdown",
   "metadata": {},
   "source": [
    "<div class = \"alert alert-danger\">  \n",
    "\n",
    "# Correction"
   ]
  },
  {
   "cell_type": "code",
   "execution_count": null,
   "metadata": {},
   "outputs": [],
   "source": [
    "def afficher(arbre):\n",
    "    if arbre != None:\n",
    "        print(arbre.valeur)\n",
    "        afficher(arbre.gauche)\n",
    "        afficher(arbre.droit)\n",
    "        \n"
   ]
  },
  {
   "cell_type": "markdown",
   "metadata": {},
   "source": [
    "<div class = \"alert alert-info\">\n",
    "\n",
    "\n",
    "**Question :**\n",
    "    \n",
    "- Qui choisit l'ordre du parcours : la machine ou le programmeur ?\n",
    "    \n",
    "- En quoi ce qui précède est lié à la pile d'appels ? (faire un schéma si besoin) "
   ]
  },
  {
   "cell_type": "markdown",
   "metadata": {},
   "source": [
    "<div class = \"alert alert-danger\">  \n",
    "\n",
    "# Correction"
   ]
  },
  {
   "cell_type": "markdown",
   "metadata": {},
   "source": [
    "Le programmeur : en indiquant dans quel ordre on effectue l'affichage de la valeur du noeud, le parcours du sous-arbre gauche et le parcours du sous-arbre droit.\n",
    "\n",
    "C'est lié à la pile d'appel puisque c'est la gestion de la pile d'appels qui a pour conséquence qu'une instruction située après un appel récursif ne peut avoir lieu qu'une fois cet appel récursif terminé."
   ]
  }
 ],
 "metadata": {
  "kernelspec": {
   "display_name": "Python 3",
   "language": "python",
   "name": "python3"
  },
  "language_info": {
   "codemirror_mode": {
    "name": "ipython",
    "version": 3
   },
   "file_extension": ".py",
   "mimetype": "text/x-python",
   "name": "python",
   "nbconvert_exporter": "python",
   "pygments_lexer": "ipython3",
   "version": "3.8.2"
  }
 },
 "nbformat": 4,
 "nbformat_minor": 4
}

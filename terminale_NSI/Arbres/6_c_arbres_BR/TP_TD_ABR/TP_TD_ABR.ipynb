{
 "cells": [
  {
   "cell_type": "markdown",
   "metadata": {},
   "source": [
    "# I : Rappels sur les arbres binaires"
   ]
  },
  {
   "cell_type": "markdown",
   "metadata": {},
   "source": [
    "Nous allons ici ré-exploiter ce qui a été fait dans la partie I du cours sur les arbres binaires. Nous allons donc disposer de la classe `Noeud` ainsi que des fonctions `taille, hauteur, copie, schema, arbre_parfait, somme, maximum` et `minimum`.  \n",
    "Ces fonctionnalités sont à disposition dans le module `arbres_binaires` (n'hésitez pas à ouvrir le fichier `arbres_binaires.py`). Pour rappel la classe `Noeud` est la suivante :\n",
    "\n",
    "```\n",
    "class Noeud:\n",
    "    '''\n",
    "    Classe implémentant un noeud d'arbre binaire.\n",
    "    '''\n",
    "    def __init__(self, v, g, d):\n",
    "        self.valeur = v\n",
    "        self.gauche = g\n",
    "        self.droit = d\n",
    "```\n",
    "\n",
    "\n",
    "Voici un exemple d'utilisation :"
   ]
  },
  {
   "cell_type": "code",
   "execution_count": null,
   "metadata": {},
   "outputs": [],
   "source": [
    "from arbres_binaires import*\n",
    "\n",
    "mon_arbre = Noeud(7, None, None)\n",
    "mon_arbre.gauche = Noeud(5, \n",
    "                         Noeud(4, None, None),\n",
    "                         None)\n",
    "mon_arbre.droit = Noeud(9, \n",
    "                         Noeud(500, None, None),\n",
    "                         None)\n",
    "\n",
    "mon_arbre.droit.gauche.valeur = 10\n",
    "schema(mon_arbre)"
   ]
  },
  {
   "cell_type": "markdown",
   "metadata": {},
   "source": [
    "<div class = \"alert alert-info\">\n",
    "\n",
    "\n",
    "**Question :**  \n",
    "    \n",
    "\n",
    "Modifier la ligne 11 de la cellule ci-dessus pour que l'arbre binaire représenté soit un ABR."
   ]
  },
  {
   "cell_type": "markdown",
   "metadata": {},
   "source": [
    "## Insertion d'éléments dans un ABR"
   ]
  },
  {
   "cell_type": "markdown",
   "metadata": {},
   "source": [
    "<div class = \"alert alert-info\">\n",
    "\n",
    "\n",
    "**Question :**  \n",
    "    \n",
    "Implémenter ci-dessous l'algorithme récursif d'insertion d'un élément dans un arbre binaire de recherche. La fonction `inserer` devra renvoyer un nouvel arbre et s'utilisera par exemple avec une instruction de la forme :\n",
    "    \n",
    "    `mon_arbre = inserer(777, mon_arbre)`\n",
    "\n",
    "Vous êtes libre de gérer le cas de l'insertion d'un élément déjà présent dans l'arbre comme bon vous semble (insertion malgré tout donc création d'un doublon ou alors on ne l'insère pas en double)."
   ]
  },
  {
   "cell_type": "code",
   "execution_count": null,
   "metadata": {},
   "outputs": [],
   "source": [
    "def inserer(element, arbre):\n",
    "    pass"
   ]
  },
  {
   "cell_type": "markdown",
   "metadata": {},
   "source": [
    "<div class = \"alert alert-info\">\n",
    "\n",
    "\n",
    "**Question :**  \n",
    "    \n",
    "Quel choix avez vous effectué concernant l'insertion d'un élément déjà présent dans l'ABR ?"
   ]
  },
  {
   "cell_type": "code",
   "execution_count": null,
   "metadata": {},
   "outputs": [],
   "source": []
  },
  {
   "cell_type": "markdown",
   "metadata": {},
   "source": [
    "<div class = \"alert alert-info\">\n",
    "\n",
    "\n",
    "**Question :**  \n",
    "    \n",
    "En utilisant votre fonction `inserer`, créer un ABR comportant les valeurs de `tab = [3, 8, 9, 12, 4, 9, 1, 0, 18, 99, 4, 51, 16, 4]` insérées dans l'ordre de parcours. Vérifier que l'arbre binaire obtenu est bien un ABR."
   ]
  },
  {
   "cell_type": "code",
   "execution_count": null,
   "metadata": {},
   "outputs": [],
   "source": []
  },
  {
   "cell_type": "markdown",
   "metadata": {},
   "source": [
    "<div class = \"alert alert-info\">\n",
    "\n",
    "\n",
    "**Question :**  \n",
    "    \n",
    "Quelle est la hauteur de cet arbre ?    \n",
    "Que pensez vous de la hauteur de cet ABR par rapport à sa taille ?   plutôt grande ou plutôt petite ? \n"
   ]
  },
  {
   "cell_type": "code",
   "execution_count": null,
   "metadata": {},
   "outputs": [],
   "source": []
  },
  {
   "cell_type": "markdown",
   "metadata": {},
   "source": [
    "<div class = \"alert alert-info\">\n",
    "\n",
    "\n",
    "**Question :**  \n",
    "    \n",
    "    \n",
    "Le fait de pouvoir transférer le contenu d'un tableau dans un ABR est très pratique.  \n",
    "\n",
    "Créer une fonction `transferer` prenant en argument un tableau `tab` (dont les élements peuvent être triés) et renvoyant un ABR dont les noeuds ont pour valeurs les éléments du tableau `tab`."
   ]
  },
  {
   "cell_type": "code",
   "execution_count": null,
   "metadata": {},
   "outputs": [],
   "source": [
    "def transferer(tab):\n",
    "    pass"
   ]
  },
  {
   "cell_type": "code",
   "execution_count": null,
   "metadata": {},
   "outputs": [],
   "source": [
    "mon_abr = transferer([3, 8, 9, 12, 4, 9, 1, 0, 18, 99, 3, 51, 16, 6])\n",
    "schema(mon_abr)"
   ]
  },
  {
   "cell_type": "markdown",
   "metadata": {},
   "source": [
    "## Recherche d'éléments dans un ABR"
   ]
  },
  {
   "cell_type": "markdown",
   "metadata": {},
   "source": [
    "<div class = \"alert alert-info\">\n",
    "\n",
    "\n",
    "**Question :**  \n",
    "    \n",
    "Implémenter ci-dessous l'algorithme récursif de recherche d'un élément dans un arbre binaire de recherche. La fonction `rechercher` devra renvoyer `True` ou `False` selon que l'élément est présent ou pas dans l'ABR.\n",
    "\n",
    "Vous êtes libre de gérer le cas de l'insertion d'un élément déjà présent dans l'arbre comme bon vous semble (insertion malgré tout donc création d'un doublon ou alors on ne l'insère pas en double)."
   ]
  },
  {
   "cell_type": "code",
   "execution_count": null,
   "metadata": {},
   "outputs": [],
   "source": []
  },
  {
   "cell_type": "markdown",
   "metadata": {},
   "source": [
    "<div class = \"alert alert-info\">\n",
    "\n",
    "\n",
    "**Question :**  \n",
    "\n",
    "Tester votre implémentation en exécutant la cellule de code ci-dessous :"
   ]
  },
  {
   "cell_type": "code",
   "execution_count": null,
   "metadata": {},
   "outputs": [],
   "source": [
    "assert(rechercher(4, transferer([1, 7, 9, 4, 6, 6, 6])))\n",
    "assert(not rechercher(4, transferer([1, 7, 9, 8, 6, 6, 6])))\n",
    "assert(not rechercher(6, transferer([])))\n",
    "assert(rechercher('Pid', transferer(['A', 'C', 'TF', 'GH', 'BB', 'Pid'])))\n",
    "assert(not rechercher('Pid', transferer(['A', 'C', 'TF', 'GH', 'BB', 'Pib'])))"
   ]
  },
  {
   "cell_type": "markdown",
   "metadata": {},
   "source": [
    "# Encapsulation"
   ]
  },
  {
   "cell_type": "markdown",
   "metadata": {},
   "source": [
    "Pour insérer des éléments dans son ABR, Alice préfèrerait muter l'arbre passé en argument plutôt que de renvoyer un nouvel arbre. En terme de syntaxe cela donnerait cela :\n",
    "\n",
    "`inserer(element, mon_arbre)`\n",
    "\n",
    "Alors que ce que nous avons fait nous donne la syntaxe suivante :\n",
    "\n",
    "`mon_arbre = inserer(element, mon_arbre)`"
   ]
  },
  {
   "cell_type": "markdown",
   "metadata": {},
   "source": [
    "<div class = \"alert alert-info\">\n",
    "\n",
    "\n",
    "**Question ($\\star \\star$):**  \n",
    "\n",
    "Dans notre implémentation de la classe Noeud, qu'est ce qui empêche de procéder comme Alice le souhaite ?"
   ]
  },
  {
   "cell_type": "code",
   "execution_count": null,
   "metadata": {},
   "outputs": [],
   "source": []
  },
  {
   "cell_type": "markdown",
   "metadata": {},
   "source": [
    "<div class = \"alert alert-info\">\n",
    "\n",
    "\n",
    "**Question :**  \n",
    "- Compléter la cellule ci-dessous avec le code des fonctions `inserer`, `transferer` et `rechercher`.\n",
    "- Puis implémenter une classe `ABR` disposant d'un unique attribut `racine` implémentant une classe d'arbre binaire de recherche disposant des fonctions d'insertion et de recherche. On utilisera avec profit les fonctions "
   ]
  },
  {
   "cell_type": "code",
   "execution_count": null,
   "metadata": {},
   "outputs": [],
   "source": [
    "class Noeud:\n",
    "    '''\n",
    "    Classe implémentant un noeud d'arbre binaire.\n",
    "    '''\n",
    "    def __init__(self, v, g, d):\n",
    "        self.valeur = v\n",
    "        self.gauche = g\n",
    "        self.droit = d\n",
    "        \n",
    "def inserer(element, arbre):\n",
    "    pass #Copier-coller le code de votre fonction inserer\n",
    "\n",
    "def transferer(tab):\n",
    "    pass #Copier-coller le code de votre fonction transferer\n",
    "\n",
    "def rechercher(element, arbre):\n",
    "    pass #Copier-coller le code de votre fonction rechercher\n",
    "\n",
    "\n",
    "class ABR():\n",
    "    \n",
    "    def __init__(self):\n",
    "        self.racine = None\n",
    "    \n",
    "    def affiche(self):\n",
    "        schema(self.racine)\n",
    "    \n",
    "    def insere(element):\n",
    "        pass #compléter\n",
    "    \n",
    "    def transfere(tab):\n",
    "        pass #compléter\n",
    "    \n",
    "    def recherche(element):\n",
    "        pass #compléter\n",
    "        \n",
    "        "
   ]
  },
  {
   "cell_type": "code",
   "execution_count": null,
   "metadata": {},
   "outputs": [],
   "source": [
    "a = ABR()\n",
    "a.transfere([2, 8, 7, 9])\n",
    "a.insere(12)\n",
    "print(a.recherche(8))\n",
    "print(a.recherche(18))\n",
    "a.affiche()"
   ]
  },
  {
   "cell_type": "code",
   "execution_count": null,
   "metadata": {},
   "outputs": [],
   "source": [
    "a = ABR()\n",
    "a.transfere([2, 8, 7, 9])\n",
    "a.insere(12)\n",
    "print(a.recherche(8))\n",
    "print(a.recherche(18))\n",
    "a.affiche()"
   ]
  },
  {
   "cell_type": "markdown",
   "metadata": {},
   "source": [
    "<div class = \"alert alert-info\">\n",
    "\n",
    "\n",
    "**Question ($\\star \\star$):**  \n",
    "\n",
    "Lorsqu'auparavant nous utilisions des instructions telles que :\n",
    "\n",
    "    mon_arbre = Noeud(7, None, None)\n",
    "    \n",
    "est-ce que `mon_arbre` était *vraiment* un arbre ?"
   ]
  },
  {
   "cell_type": "markdown",
   "metadata": {},
   "source": [
    "# Arbres binaires de recherche *équilibrés*"
   ]
  },
  {
   "cell_type": "markdown",
   "metadata": {},
   "source": [
    "Le code ci-dessous permet d'utiliser des arbres binaires de recherches *équilibrés* : lorqu'on y insère des élements, l'arbre reste équilibré. Autrement dit les sous-arbres gauche et droit ont toujours une taille équivalente. Cela évite d'avoir - par exemple - un sous-arbre gauche qui descend très bas alors que le sous-arbre droit est très court. Ainsi la hauteur d'un arbre binaire de recherche équilibré est minimale :\n",
    "\n",
    "\n",
    "**En résumé les arbres binaires équilibrés gardent une hauteur h en $O (log N)$ où $N$ est la taille de l'arbre.**\n",
    "\n",
    "Puisque c'est la hauteur qui détermine la complexité de l'insertion et de la recherche, les ABR équilibrés permettent d'avoir une complexité d'insertion et de recherche en $O (h) = O(log N)$ alors que sans cet équilibrage on aurait une complexité en $O(N)$.\n",
    "\n",
    "Exécuter les deux cellules de code suivantes pour comparer avec l'arbre qui avait été obtenu plus haut dans le notebook (de hauteur 7) : ici on obtient une hauteur égale à 4."
   ]
  },
  {
   "cell_type": "code",
   "execution_count": null,
   "metadata": {},
   "outputs": [],
   "source": [
    "import abr_equilibres as abr_e\n",
    "import vizu_arbreb_copie as v_a_c"
   ]
  },
  {
   "cell_type": "code",
   "execution_count": null,
   "metadata": {},
   "outputs": [],
   "source": [
    "a = abr_e.ArbreBR()\n",
    "for elt in [3, 8, 9, 12, 4, 9, 1, 0, 18, 99, 3, 51, 16, 6]:\n",
    "    a = abr_e.inserer(elt, a)\n",
    "v = v_a_c.VizuArbreB(a)"
   ]
  },
  {
   "cell_type": "markdown",
   "metadata": {},
   "source": [
    "Vérifier une seconde fois que l'équilibrage est efficace :"
   ]
  },
  {
   "cell_type": "code",
   "execution_count": null,
   "metadata": {},
   "outputs": [],
   "source": [
    "import random\n",
    "\n",
    "a = abr_e.ArbreBR()\n",
    "for elt in list(range(100)):\n",
    "    a = abr_e.inserer(elt, a)\n",
    "v = v_a_c.VizuArbreB(a)"
   ]
  },
  {
   "cell_type": "code",
   "execution_count": null,
   "metadata": {},
   "outputs": [],
   "source": [
    "a = ABR()\n",
    "a.transfere(list(range(100)))\n",
    "a.affiche()"
   ]
  },
  {
   "cell_type": "code",
   "execution_count": null,
   "metadata": {},
   "outputs": [],
   "source": []
  }
 ],
 "metadata": {
  "kernelspec": {
   "display_name": "Python 3",
   "language": "python",
   "name": "python3"
  },
  "language_info": {
   "codemirror_mode": {
    "name": "ipython",
    "version": 3
   },
   "file_extension": ".py",
   "mimetype": "text/x-python",
   "name": "python",
   "nbconvert_exporter": "python",
   "pygments_lexer": "ipython3",
   "version": "3.8.2"
  }
 },
 "nbformat": 4,
 "nbformat_minor": 4
}

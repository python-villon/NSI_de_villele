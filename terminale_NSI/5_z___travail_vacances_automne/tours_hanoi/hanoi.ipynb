{
 "cells": [
  {
   "cell_type": "markdown",
   "metadata": {},
   "source": [
    "On pourra utiliser le module `xile` qui implémente les trois structures de données suivantes :\n",
    "- une classe `Pile`,\n",
    "- une classe `File`,\n",
    "- une classe `Liste`.\n",
    "    \n",
    "Ces trois classes disposent des méthodes :\n",
    "- `ajouter(elt)` pour ajouter un élément en haut de la pile, en queue de file ou en tête de liste,\n",
    "- `extraire()` pour extraire et renvoyer l'élément situé en haut de la pile ou en tête de file ou de liste (la structure de données est donc mutée et perd un élément),\n",
    "- `est_vide()` pour indiquer si la pile, file ou liste est vide.\n",
    "\n",
    "Par ailleurs la classe `Liste` dispose des méthodes `tete()` et `queue()` qui renvoient l'élément situé en tête de liste ou la queue de liste **sans muter** la liste.\n",
    "\n",
    "*Remarque :* les méthodes `extraire, tete` et `queue` ont comme précondition que la structure de données doit être non vide.\n",
    "\n",
    "\n",
    "Voici un exemple d'utilisation avec une liste :"
   ]
  },
  {
   "cell_type": "code",
   "execution_count": null,
   "metadata": {},
   "outputs": [],
   "source": [
    "from xile import  Liste\n",
    "\n",
    "ma_liste = Liste()\n",
    "\n",
    "for i in range(10):\n",
    "    ma_liste.ajouter(i*i)\n",
    "\n",
    "print(ma_liste)\n",
    "\n",
    "#ma_sous_liste = ma_liste.queue().queue()"
   ]
  },
  {
   "cell_type": "markdown",
   "metadata": {},
   "source": [
    "# Implémentation d'un jeu de Hanoï"
   ]
  },
  {
   "cell_type": "markdown",
   "metadata": {},
   "source": [
    "On pourra consulter cette page pour voir ce qu'est le [jeu des tours de Hanoï](https://fr.wikipedia.org/wiki/Tours_de_Hano%C3%AF).  \n",
    "**On ne cherchera pas à obtenir le minimum de coups.**\n",
    "\n",
    "**Attention :** si vous lisez un peu trop l'article, vous allez lire certaines solutions qui vont rendre inintéressantes certaines questions ci-dessous."
   ]
  },
  {
   "cell_type": "markdown",
   "metadata": {},
   "source": [
    "On souhaite implémenter une structure de jeu de Hanoï grâce à une classe Hanoi disposant de quatre attributs :\n",
    "- `pile_gauche` qui est de type `Pile`,\n",
    "- `pile_milieu` qui est de type `Pile`,\n",
    "- `pile_droite` qui est de type `Pile`,\n",
    "- `nombre_disques` qui est de type `int`.\n",
    "\n",
    "#### Initialisation\n",
    "\n",
    "Les `N` disques d'un jeu de Hanoï seront représentés par les entiers de `1` (le plus petit) à `N` (le plus grand).  \n",
    "Lors de l'initialisation d'un jeu de Hanoï la constructeur `__init__` prendra en argument un entier `N` et initialisera :\n",
    "- la pile de gauche avec les entiers allant de `N` à `1` (`N` devra être en bas de la pile !),\n",
    "- `nombre_disques` avec la valeur de `N`.\n",
    "\n",
    "#### Transfert\n",
    "\n",
    "La classe `Hanoi` disposera par ailleurs d'une méthode `transfert(depart, arrivee)` où `depart` et `arrivee` sont des chaînes de caractères parmi `'g'`, `'m'`, `'d'`. Ainsi `transfert('g', 'd')` transfère le disque du haut de la pile de gauche sur la pile de droite alors que `transfert('m', 'g')` transfère le disque du haut de la pile du milieu sur la pile de gauche.  \n",
    "Lorsqu'on appellera cette méthode `transfert` en cherchant à empiler un disque sur un disque plus petit, aucun des trois attributs ne sera modifié et aucun messsage d'erreur ne sera renvoyé. \n",
    "Pour éviter des `if` et des `elif` pénibles, on utilisera un dictionnaire permettant de déterminer quelle est la pile de départ et la pile d'arrivée (voir ci-dessous).\n",
    "\n",
    "#### Affichage\n",
    "\n",
    "Enfin la méthode `__repr__` permettant l'affichage vous est fournie.\n",
    "\n",
    "*Attention :* pour empiler et dépiler on utilisera bien les noms des méthodes de l'interface de la classe `Pile` et non pas `empiler` et `depiler`.\n",
    "\n",
    "Voici un exemple d'utilisation de la classe `Hanoi` :"
   ]
  },
  {
   "cell_type": "raw",
   "metadata": {},
   "source": [
    "mon_jeu = Hanoi(4)             #avec 4 disques  pile_gauche contient |4, 3, 2, 1 >\n",
    "mon_jeu.transfert('g', 'd')\n",
    "mon_jeu.transfert('g', 'm')\n",
    "mon_jeu.transfert('d', 'm')   # pile_gauche contient |4, 3 >    et   pile_milieu contient |2, 1 >"
   ]
  },
  {
   "cell_type": "markdown",
   "metadata": {},
   "source": [
    "<div class = \"alert alert-info\">\n",
    "\n",
    "**Question :**   \n",
    "Donner une séquence d'instructions permettant :  \n",
    "- de créer un jeu de Hanoï avec N = 8 disques,\n",
    "- puis de transférer les quatre plus petits disques sur la pile de droite, les autres restant à leur place.  \n",
    "    \n",
    "**Attention :** on ne peut jamais positionner un disque au dessus d'un disque plus petit."
   ]
  },
  {
   "cell_type": "markdown",
   "metadata": {},
   "source": [
    "<div class = \"alert alert-info\">\n",
    "\n",
    "**Question :**  \n",
    "Sauriez vous résoudre le jeu de Hanoï avec N = 7 disques ?"
   ]
  },
  {
   "cell_type": "markdown",
   "metadata": {},
   "source": [
    "<div class = \"alert alert-info\">\n",
    "\n",
    "**Question :**   \n",
    "\n",
    "Compléter la classe suivante pour qu'elle corresponde à ce qui vient d'être décrit.  \n",
    "    \n",
    "Puis tester différents transferts en affichant l'instance de votre classe `Hanoi`."
   ]
  },
  {
   "cell_type": "code",
   "execution_count": null,
   "metadata": {},
   "outputs": [],
   "source": [
    "from xile import # à compléter\n",
    "\n",
    "class Hanoi:\n",
    "    \n",
    "    def __init__(self, N):\n",
    "        self.nombre_disques = N\n",
    "        self.pile_gauche = Pile()\n",
    "        self.pile_milieu = Pile()\n",
    "        self.pile_droite = Pile()\n",
    "        # à compléter ici pour que la pile de gauche soit remplie avec les entiers de N à 1\n",
    "    \n",
    "    def transfert(self, depart, arrivee):\n",
    "        correspondance = {'g' : self.pile_gauche, 'm' : self.pile_milieu, 'd' : self.pile_droite}\n",
    "        pile_depart = correspondance[depart]\n",
    "        # pile_arrivee = ...\n",
    "        # à compléter pour transférer un disque de la pile de départ sur la pile d'arrivée\n",
    "        # à condition que le disque du haut de la pile de départ soit plus petit que celui\n",
    "        # du haut de la pile d'arrivée.   \n",
    "        \n",
    "    def __repr__(self):\n",
    "        t = [self.pile_gauche, self.pile_milieu, self.pile_droite]\n",
    "        N = self.nombre_disques\n",
    "        matrice = [[' ' for _ in range(6*N+2)] for _ in range(N+1)]\n",
    "        matrice[0] = ['-' for _ in range(6*N+2)]\n",
    "        def scan(p, m, idx, N):\n",
    "            p2, compteur = Pile(), 0\n",
    "            while not p.est_vide():\n",
    "                elt = p.extraire()\n",
    "                p2.ajouter(elt)\n",
    "                compteur = compteur + 1\n",
    "            lig = 1\n",
    "            while not p2.est_vide():\n",
    "                elt = p2.extraire()\n",
    "                for col in range(N-elt + idx*(2*N+1), N+elt + idx*(2*N+1)):\n",
    "                    m[lig][col] = 'X'\n",
    "                lig = lig + 1\n",
    "                p.ajouter(elt)\n",
    "        for idx in range(3):\n",
    "            scan(t[idx], matrice, idx, N)\n",
    "        S = ''\n",
    "        for lig in range(N, -1, -1):\n",
    "            for col in range(6*N+2):\n",
    "                S = S + matrice[lig][col]\n",
    "            S = S + '\\n'\n",
    "        return S"
   ]
  },
  {
   "cell_type": "code",
   "execution_count": null,
   "metadata": {},
   "outputs": [],
   "source": [
    "jeu = Hanoi(5)\n",
    "jeu"
   ]
  },
  {
   "cell_type": "markdown",
   "metadata": {},
   "source": [
    "<div class = \"alert alert-info\">  \n",
    "\n",
    "**Question :**   \n",
    "\n",
    "On note `resoudre_hanoi(jeu, k, depart, arrivee)` une suite de transferts de disques permettant de déplacer les `k` disques situés en haut de la pile `depart` du jeu de Hanoï `jeu` vers la pile `arrivee` en supposant que la troisième pile  est vide (appelons cette troisième pile `etape`).  \n",
    "    \n",
    "    \n",
    "    \n",
    "Ecrire une relation de récursivité permettant d'obtenir `resoudre_hanoi(jeu, k+1, depart, arrivee)`  à l'aide de `resoudre_hanoi(jeu, k, ..., ...)`, d'encore `resoudre_hanoi(jeu, k, ..., ...)` et  de `transfert(..., ...)`"
   ]
  },
  {
   "cell_type": "markdown",
   "metadata": {},
   "source": [
    "..."
   ]
  },
  {
   "cell_type": "markdown",
   "metadata": {},
   "source": [
    "<div class = \"alert alert-info\">  \n",
    "\n",
    "**Question :**  \n",
    "\n",
    "Compléter la fonction récursive ci-dessous permettant de résoudre le jeu de hanoi pour N disques. \n",
    "\n",
    "La tester sur plusieurs instances de `Hanoi`."
   ]
  },
  {
   "cell_type": "code",
   "execution_count": null,
   "metadata": {},
   "outputs": [],
   "source": [
    "def resoudre_hanoi(jeu, k, depart, arrivee):\n",
    "    for lettre in ['g', 'm', 'd']:\n",
    "        if lettre not in [depart, arrivee]:\n",
    "            etape = lettre\n",
    "    #implémenter le cas de base :\n",
    "    \n",
    "    \n",
    "    \n",
    "    \n",
    "    # implémenter le cas général\n",
    "    \n",
    "    \n",
    "    \n",
    "    "
   ]
  },
  {
   "cell_type": "code",
   "execution_count": null,
   "metadata": {},
   "outputs": [],
   "source": [
    "jeu = Hanoi(7)\n",
    "resoudre_hanoi(jeu, 7, 'g', 'd')"
   ]
  },
  {
   "cell_type": "code",
   "execution_count": null,
   "metadata": {},
   "outputs": [],
   "source": [
    "jeu"
   ]
  }
 ],
 "metadata": {
  "kernelspec": {
   "display_name": "Python 3",
   "language": "python",
   "name": "python3"
  },
  "language_info": {
   "codemirror_mode": {
    "name": "ipython",
    "version": 3
   },
   "file_extension": ".py",
   "mimetype": "text/x-python",
   "name": "python",
   "nbconvert_exporter": "python",
   "pygments_lexer": "ipython3",
   "version": "3.8.2"
  }
 },
 "nbformat": 4,
 "nbformat_minor": 4
}

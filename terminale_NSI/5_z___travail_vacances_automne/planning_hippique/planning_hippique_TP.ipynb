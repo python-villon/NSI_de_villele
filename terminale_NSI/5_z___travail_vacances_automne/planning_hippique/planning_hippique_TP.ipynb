{
 "cells": [
  {
   "cell_type": "markdown",
   "metadata": {},
   "source": [
    "<div class = \"alert alert-info\">\n",
    "\n",
    "Le propriétaire d'un cheval se penche sur le calendrier des courses hippiques de la saison à venir :\n",
    "- chaque jour il y a une course hippique à laquelle il peut participer;\n",
    "- chacune des courses hippiques offre un prix pour le vainqueur;\n",
    "- après avoir participé à une course, le cheval doit se reposer et ne peut participer à une nouvelle course que quatre jours plus tard.\n",
    "    \n",
    "\n",
    "\n",
    "Le propriétaire cherche à choisir les courses auxquelles il participera en maximisant le montant total des prix qu'il pourra récolter s'il gagne.\n",
    "    \n",
    "    \n",
    "On suppose que le calendrier des courses est implémenté par un tableau indexé `cal` pour lequel la valeur d'indice `i` est le prix offert pour la course du `i`ème jour de la saison (en commençant à zéro).\n",
    " "
   ]
  },
  {
   "cell_type": "markdown",
   "metadata": {},
   "source": [
    "**Exemple :**\n",
    "\n",
    "\n",
    "`cal = [2, 1, 10, 6, 8, 20, 22, 10, 4, 20, 2, 4, 14, 2, 6]` est de taille `13`.\n",
    "\n",
    "Le propriétaire peut choisir comme planning `[0, 4, 8, 12]` auquel cas le montant total des prix est 2 + 8 + 4 + 14 = 28. Ce planning n'est clairement pas optimal.  \n",
    "\n",
    "Le propriétaire ne peut pas choisir comme planning `[2, 6, 9, 13]` car il n'y a pas quatre jours d'écarts entre les jours d'indice 6 et 9."
   ]
  },
  {
   "cell_type": "markdown",
   "metadata": {},
   "source": [
    "<div class = \"alert alert-info\">\n",
    "\n",
    "\n",
    "**Question 1 (recommandéee mais facultative) :**   \n",
    "    \n",
    "    \n",
    "- Proposer un algorithme glouton permettant, à partir d'un calendrier des courses, de proposer un planning. **On ne demande pas de programmer cet algorithme en Python.**\n",
    "\n",
    "- Appliquer cet algorithme sur l'exemple ci-dessus.\n",
    "    \n",
    "- Sur cet exemple, est-ce que cet algorithme fournit un planning optimal ?\n",
    "    \n",
    "- Si $n$ est la taille du calendrier, quelle est la complexité de cet algorithme : $O(n)$ ? $O(n^2)$ ? \n",
    "    "
   ]
  },
  {
   "cell_type": "markdown",
   "metadata": {},
   "source": [
    "..."
   ]
  },
  {
   "cell_type": "markdown",
   "metadata": {},
   "source": [
    "<div class = \"alert alert-info\">  \n",
    " \n",
    "    \n",
    "\n",
    "On note `planning(cal, n)` un planning optimal que choisit le propriétaire lorsqu'on considère uniquement les jours d'indices `0` à `n` du calendrier `cal` et on note `total_prix(cal, n)` le montant total des prix correspondant.\n",
    "    \n",
    "<br/>\n",
    "    \n",
    "**Question 2 :**  \n",
    "On considère le calendrier `cal = [15, 15, 25, 6, 2, 15, 6, 15, 6, X]` d'indice maximal `9` et dont le dernier prix `cal[9]` n'est pas encore fixé.\n",
    "\n",
    "- On admet que `total_prix(cal, 5) = 30`. Quelle est la valeur de `planning(cal, 5)` ?\n",
    "- On admet que `total_prix(cal, 8) = 40`. Quelle est la avleur de `planning(cal, 8)` ?\n",
    "- Si `X` est très grand, l'indice 9 fera partie du planning optimal. Déterminer à partir de quelle valeur de `X` ce sera le cas.\n",
    "- Si c'est le cas, quel sera le planning optimal ?\n",
    "- Et si ce n'est pas le cas ?\n",
    "\n",
    "    \n",
    "    \n",
    "\n",
    "    "
   ]
  },
  {
   "cell_type": "markdown",
   "metadata": {},
   "source": [
    "..."
   ]
  },
  {
   "cell_type": "markdown",
   "metadata": {},
   "source": [
    "<div class = \"alert alert-info\">  \n",
    "\n",
    "    \n",
    "**Question 3 :**  \n",
    "On considère le calendrier `cal = [......, 15, 2, 5, 25, 9]` d'indice maximal `14` et dont les premiers éléments ont été masqués. On sait en revanche que :\n",
    "- `planning(cal, 10) = [1, 5, 10]` et `total_prix(cal, 10) = 52`,\n",
    "- `planning(cal, 13) = [1, 5, 9, 13]` et `total_prix(cal, 13) = 59`.\n",
    "\n",
    "Combien valent `planning(cal, 14)` et `total_prix(cal, 14)`? \n",
    "\n"
   ]
  },
  {
   "cell_type": "markdown",
   "metadata": {},
   "source": [
    "..."
   ]
  },
  {
   "cell_type": "markdown",
   "metadata": {},
   "source": [
    "<div class = \"alert alert-info\">  \n",
    "    \n",
    "**Question 4 :**\n",
    "\n",
    "\n",
    "Si `n>=4`, déterminer une relation de récursivité (cas général) permettant de calculer `total_prix(cal, n)` à partir de `total_prix(cal, n-4), total_prix(cal, n-1)` et `cal[n]`."
   ]
  },
  {
   "cell_type": "markdown",
   "metadata": {},
   "source": [
    "..."
   ]
  },
  {
   "cell_type": "markdown",
   "metadata": {},
   "source": [
    "<div class = \"alert alert-info\">  \n",
    "    \n",
    "**Question 5 :**\n",
    "\n",
    "\n",
    "Si `n<4` (cas de base) déterminer comment calculer `total_prix(cal, n)` à partir de `cal[i]` pour `i` entre `0` et `n`."
   ]
  },
  {
   "cell_type": "markdown",
   "metadata": {},
   "source": [
    "..."
   ]
  },
  {
   "cell_type": "markdown",
   "metadata": {},
   "source": [
    "<div class = \"alert alert-info\">  \n",
    "    \n",
    "**Question 6 :**\n",
    "\n",
    "\n",
    "Implémenter ci-dessous la fonction `total_prix(cal, n)` en utilisant un algorithme récursif."
   ]
  },
  {
   "cell_type": "code",
   "execution_count": null,
   "metadata": {},
   "outputs": [],
   "source": []
  },
  {
   "cell_type": "code",
   "execution_count": null,
   "metadata": {},
   "outputs": [],
   "source": [
    "cal = [25, 25, 2, 2, 15, 2, 25, 6, 15, 25, 6, 2, 6, 6, 6, 2, 15, 6, 6, 6, 15, 15, 25, 25, 6, 15]\n",
    "assert total_prix(cal, 5)  == 40\n",
    "assert total_prix(cal, 10) == 65\n",
    "assert total_prix(cal, 15) == 71\n",
    "assert total_prix(cal, 20) == 95\n",
    "assert total_prix(cal, 25) == 110\n",
    "cal = [2, 6, 11, 2, 18, 12, 12, 55, 18, 15, 15, 6, 21, 6, 21, 9, 15, 21, 2, 55, 11, 55, 55, 6, 55, 15]\n",
    "assert total_prix(cal, 0)  == 2\n",
    "assert total_prix(cal, 3)  == 11\n",
    "assert total_prix(cal, 25) == 197"
   ]
  },
  {
   "cell_type": "markdown",
   "metadata": {},
   "source": [
    "<div class = \"alert alert-info\">  \n",
    "\n",
    "**Question 7 :**\n",
    "    \n",
    "Après avoir implémenté une fonction générant des calendriers aléatoires de taille `N` passée en argument (en utilisant `randint(a, b)` du module `random` et des tableaux définis en compréhension), tester votre fonction sur des calendriers de taille 40, puis 50, puis 60 etc.\n",
    "\n",
    "À partir de quelle taille de calendrier l'algorithme met-il plus de quelques secondes à s'exécuter ?"
   ]
  },
  {
   "cell_type": "code",
   "execution_count": null,
   "metadata": {},
   "outputs": [],
   "source": []
  },
  {
   "cell_type": "markdown",
   "metadata": {},
   "source": [
    "..."
   ]
  },
  {
   "cell_type": "markdown",
   "metadata": {},
   "source": [
    "<div class = \"alert alert-info\">  \n",
    "\n",
    "**Question 8 :**\n",
    "    \n",
    "Dessiner soigneusement sur une feuille l'arbre des appels récursifs à `total_prix(cal, n)` lorsque l'appel principal est `total_prix(cal, 9)`. Combien d'appels sont effectués en tout (appel principal compris) ?\n",
    "    \n",
    "\n",
    "<br/>\n",
    "    \n",
    "En utilisant cet arbre récursif comme support de réflexion et de comptage, combien d'appels récursifs sont effectués lors de l'appel principal à `total_prix(cal, 10)` ? et lors de l'appel principal à `total_prix(cal, 11)` ? et pour `total_prix(cal, 12)` ? et pour `total_prix(cal, 13)` ?\n",
    "    \n",
    "En quoi ces résultats sont-ils reliés à la question précédente ?"
   ]
  },
  {
   "cell_type": "markdown",
   "metadata": {},
   "source": [
    "..."
   ]
  },
  {
   "cell_type": "markdown",
   "metadata": {},
   "source": [
    "<div class = \"alert alert-info\">  \n",
    "\n",
    "**Question 9 :**\n",
    "    \n",
    "Compléter/modifier le code de la fonction suivante pour qu'elle renvoie le nombre d'appels récursifs effectués lors de l'appel principal à `total_prix(cal, n)` avec `n>=4`.\n",
    "    \n",
    "Combien d'appels sont effectués pour n = 100 ?\n",
    "    \n",
    "Est-ce que cela est en accord avec les deux questions précédentes ?"
   ]
  },
  {
   "cell_type": "code",
   "execution_count": null,
   "metadata": {},
   "outputs": [],
   "source": [
    "def nombre_appels(n):\n",
    "    assert n>=4\n",
    "    nb_appels = [1, 1, 1, 1]\n",
    "    for appel in range(4, n+1):\n",
    "        nb_appels.append(1 + nb_appels[XXX] + nb_appels[YYY]) # à modifier\n",
    "    return                                                    # à modifier\n",
    "\n",
    "nombre_appels(100)"
   ]
  },
  {
   "cell_type": "markdown",
   "metadata": {},
   "source": [
    "<div class = \"alert alert-info\">  \n",
    "\n",
    "**Question 10 :**\n",
    "\n",
    "\n",
    "On admet que la taille de l'arbre des appels récursifs de `planning(cal, n)` augmente lorsque `n` augmente.\n",
    "    \n",
    "- Justifier que lorsque `n` augmente de 4, la taille de l'arbre des appels récursifs de `planning(cal, n)` est au moins multipliée par deux.\n",
    "    \n",
    "- Qu'en déduit-on : que la complexité de l'algorithme récursif est au moins quadratique ou au moins exponentielle ?"
   ]
  },
  {
   "cell_type": "markdown",
   "metadata": {},
   "source": [
    "..."
   ]
  },
  {
   "cell_type": "markdown",
   "metadata": {},
   "source": [
    "# BONUS"
   ]
  },
  {
   "cell_type": "markdown",
   "metadata": {},
   "source": [
    "<div class = \"alert alert-info\">  \n",
    "    \n",
    "**Question Bonus A :**\n",
    "\n",
    "\n",
    "Reprendre les deux questions précédentes n° 4 et 5 pour le planning optimal `planning(cal, n)` au lieu de `total_prix(cal, n)`. La relation de récursivité utilisera notamment `total_prix` ..."
   ]
  },
  {
   "cell_type": "markdown",
   "metadata": {},
   "source": [
    "..."
   ]
  },
  {
   "cell_type": "markdown",
   "metadata": {},
   "source": [
    "<div class = \"alert alert-info\">  \n",
    "    \n",
    "**Question Bonus B ( $\\star \\star$ ):**\n",
    "\n",
    "\n",
    "Implémenter ci-dessous la fonction `planning(cal, n)` en utilisant un algorithme récursif.  \n",
    "Compte-tenu de la relation de récursivité associée au planning optimal, elle renverra à la fois le total optimal et le planning optimal."
   ]
  },
  {
   "cell_type": "markdown",
   "metadata": {},
   "source": [
    "..."
   ]
  },
  {
   "cell_type": "code",
   "execution_count": null,
   "metadata": {},
   "outputs": [],
   "source": [
    "cal = [25, 12, 6, 9, 55, 18, 12, 15, 6, 18, 11, 21, 15, 55, 25, 18, 21, 18, 9, 21, 25, 55, 12, 11, 12, 6]\n",
    "assert planning(cal, 5)  == (80, [0, 4])\n",
    "assert planning(cal, 10) == (98, [0, 4, 9])\n",
    "assert planning(cal, 15) == (153, [0, 4, 9, 13])\n",
    "assert planning(cal, 20) == (178, [0, 4, 9, 13, 20])\n",
    "assert planning(cal, 25) == (232, [0, 4, 9, 13, 17, 21, 25])"
   ]
  }
 ],
 "metadata": {
  "kernelspec": {
   "display_name": "Python 3",
   "language": "python",
   "name": "python3"
  },
  "language_info": {
   "codemirror_mode": {
    "name": "ipython",
    "version": 3
   },
   "file_extension": ".py",
   "mimetype": "text/x-python",
   "name": "python",
   "nbconvert_exporter": "python",
   "pygments_lexer": "ipython3",
   "version": "3.8.2"
  }
 },
 "nbformat": 4,
 "nbformat_minor": 4
}

{
 "cells": [
  {
   "cell_type": "markdown",
   "metadata": {},
   "source": [
    "<div class = \"alert alert-info\">\n",
    "\n",
    "Le propriétaire d'un cheval se penche sur le calendrier des courses hippiques de la saison à venir :\n",
    "- chaque jour il y a une course hippique à laquelle il peut participer;\n",
    "- chacune des courses hippiques offre un prix pour le vainqueur;\n",
    "- après avoir participé à une course, le cheval doit se reposer et ne peut participer à une nouvelle course que quatre jours plus tard.\n",
    "    \n",
    "\n",
    "\n",
    "Le propriétaire cherche à choisir les courses auxquelles il participera en maximisant le montant total des prix qu'il pourra récolter s'il gagne.\n",
    "    \n",
    "    \n",
    "On suppose que le calendrier des courses est implémenté par un tableau indexé `cal` pour lequel la valeur d'indice `i` est le prix offert pour la course du `i`ème jour de la saison (en commençant à zéro).\n",
    " "
   ]
  },
  {
   "cell_type": "markdown",
   "metadata": {},
   "source": [
    "**Exemple :**\n",
    "\n",
    "\n",
    "`cal = [2, 1, 10, 6, 8, 20, 22, 10, 4, 20, 2, 4, 14, 2, 6]` est de taille `13`.\n",
    "\n",
    "Le propriétaire peut choisir comme planning `[0, 4, 8, 12]` auquel cas le montant total des prix est 2 + 8 + 4 + 14 = 28. Ce planning n'est clairement pas optimal.  \n",
    "\n",
    "Le propriétaire ne peut pas choisir comme planning `[2, 6, 9, 13]` car il n'y a pas quatre jours d'écarts entre les jours d'indice 6 et 9."
   ]
  },
  {
   "cell_type": "markdown",
   "metadata": {},
   "source": [
    "<div class = \"alert alert-info\">\n",
    "\n",
    "\n",
    "**Question 1 :**   \n",
    "    \n",
    "    \n",
    "- Proposer un algorithme glouton permettant, à partir d'un calendrier des courses, de proposer un planning. **On ne demande pas de programmer cet algorithme en Python.**\n",
    "\n",
    "- Appliquer cet algorithme sur l'exemple ci-dessus.\n",
    "    \n",
    "- Sur cet exemple, est-ce que cet algorithme fournit un planning optimal ?\n",
    "    \n",
    "- Si $n$ est la taille du calendrier, quelle est la complexité de cet algorithme : $O(n)$ ? $O(n^2)$ ? \n",
    "    "
   ]
  },
  {
   "cell_type": "markdown",
   "metadata": {},
   "source": [
    "<div class = \"alert alert-warning\">\n",
    "\n",
    "\n",
    "- Jusqu'à ce qu'il ne reste plus de course disponible :\n",
    "    - Parmi les courses encore disponibles, choisir celle offrant le prix le plus élevé,\n",
    "    - Enlever les trois courses situées avant et après la course choisie.\n",
    "    \n",
    "\n",
    "- On choisit `cal[6]=22` puis `cal[12]=14` puis `cal[2]=10` ce qui conduit à un prix total de `46`.\n",
    "    \n",
    "    \n",
    "- Si on choisit `cal[5]=20, cal[9]=20, cal[14]=6 et cal[0]=2` on aboutit au planning optimal `[0, 5, 9, 14]` soit un montant total de `48`.\n",
    "    \n",
    "- La complexité de cet algorithme est en $O(n^2)$ en version naïve..."
   ]
  },
  {
   "cell_type": "markdown",
   "metadata": {},
   "source": [
    "<div class = \"alert alert-info\">  \n",
    " \n",
    "    \n",
    "\n",
    "On note `planning(cal, n)` un planning optimal que choisit le propriétaire lorsqu'on considère uniquement les jours d'indices `0` à `n` du calendrier `cal` et on note `total_prix(cal, n)` le montant total des prix correspondant.\n",
    "    \n",
    "<br/>\n",
    "    \n",
    "**Question 2 :**  \n",
    "On considère le calendrier `cal = [15, 15, 25, 6, 2, 15, 6, 15, 6, X]` d'indice maximal `9` et dont le dernier prix `cal[9]` n'est pas encore fixé.\n",
    "\n",
    "- Déterminer `planning(cal, 5)` et `total_prix(cal, n)`.\n",
    "- Déterminer `planning(cal, 8)` et  et `total_prix(cal, n)`.\n",
    "- Si `X` est très grand, l'indice 9 fera partie du planning optimal. Déterminer à partir de quelle valeur de `X` ce sera le cas.\n",
    "- Si c'est le cas, quels seront le planning et le montant total optimal des prix ?\n",
    "- Et si ce n'est pas le cas ?\n",
    "\n",
    "    \n",
    "    \n",
    "\n",
    "    "
   ]
  },
  {
   "cell_type": "markdown",
   "metadata": {},
   "source": [
    "<div class = \"alert alert-warning\">\n",
    "    \n",
    "\n",
    "- `planning(cal, 5) = [0, 5]` ou `planning(cal, 5) = [1, 5]` conviennent (prix total 30).\n",
    "- `planning(cal, 8) = [2, 7]` convient (prix total 40).\n",
    "- Si X est plus grand que 11, \n",
    "- on rajoute le jour d'indice 9 à `planning(cal, 5)` pour obtenir `[0, 5, 9]` ce qui donne `total_prix(cal, 9) = 30 + X > 40`.\n",
    "- sinon il suffit de garder `planning(cal, 8)`."
   ]
  },
  {
   "cell_type": "markdown",
   "metadata": {},
   "source": [
    "<div class = \"alert alert-info\">  \n",
    "\n",
    "    \n",
    "**Question 3 :**  \n",
    "On considère le calendrier `cal = [......, 15, 2, 5, 25, 9]` d'indice maximal `14` et dont les premiers éléments ont été masqués. On sait en revanche que :\n",
    "- `planning(cal, 10) = [1, 5, 10]` et `total_prix(cal, 10) = 52`,\n",
    "- `planning(cal, 13) = [1, 5, 9, 13]` et `total_prix(cal, 13) = 59`.\n",
    "\n",
    "Combien valent `planning(cal, 14)` et `total_prix(cal, 14)`? \n",
    "\n"
   ]
  },
  {
   "cell_type": "markdown",
   "metadata": {},
   "source": [
    "<div class = \"alert alert-warning\">\n",
    "    \n",
    "\n",
    "Puisque 52 + 9 > 59 on a `planning(cal, 14) = planning(cal, 10) + [14] = [1, 5, 10, 14]` et `total_prix(cal, 14) = 61`."
   ]
  },
  {
   "cell_type": "markdown",
   "metadata": {},
   "source": [
    "<div class = \"alert alert-info\">  \n",
    "    \n",
    "**Question 4 :**\n",
    "\n",
    "\n",
    "Si `n>=4`, déterminer une relation de récursivité (cas général) permettant de calculer `total_prix(cal, n)` à partir de `total_prix(cal, n-4), total_prix(cal, n-1)` et `cal[n]`."
   ]
  },
  {
   "cell_type": "markdown",
   "metadata": {},
   "source": [
    "<div class = \"alert alert-warning\">\n",
    "    \n",
    "\n",
    "`total_prix(cal, n) = max ( total_prix(cal, n-4) + cal[n] , total_prix(cal, n-1) )`"
   ]
  },
  {
   "cell_type": "markdown",
   "metadata": {},
   "source": [
    "<div class = \"alert alert-info\">  \n",
    "    \n",
    "**Question 5 :**\n",
    "\n",
    "\n",
    "Si `n<4` (cas de base) déterminer comment calculer `total_prix(cal, n)` à partir de `cal[i]` pour `i` entre `0` et `n`."
   ]
  },
  {
   "cell_type": "markdown",
   "metadata": {},
   "source": [
    "<div class = \"alert alert-warning\">\n",
    "    \n",
    "\n",
    "`total_prix(cal, n) = max ( [ cal[i] for i in range(n+1) ] )`"
   ]
  },
  {
   "cell_type": "markdown",
   "metadata": {},
   "source": [
    "<div class = \"alert alert-info\">  \n",
    "    \n",
    "**Question 6 :**\n",
    "\n",
    "\n",
    "Implémenter ci-dessous la fonction `total_prix(cal, n)` en utilisant un algorithme récursif."
   ]
  },
  {
   "cell_type": "code",
   "execution_count": null,
   "metadata": {},
   "outputs": [],
   "source": [
    "def total_prix(calendrier, jour):\n",
    "    if jour < 4:\n",
    "        prix_total_max = max(calendrier[i] for i in range(jour + 1))\n",
    "        return prix_total_max\n",
    "    else:\n",
    "        prix_total_max = max(total_prix(calendrier, jour - 1), \n",
    "                             total_prix(calendrier, jour - 4) + calendrier[jour])\n",
    "        return prix_total_max"
   ]
  },
  {
   "cell_type": "code",
   "execution_count": null,
   "metadata": {},
   "outputs": [],
   "source": [
    "cal = [25, 25, 2, 2, 15, 2, 25, 6, 15, 25, 6, 2, 6, 6, 6, 2, 15, 6, 6, 6, 15, 15, 25, 25, 6, 15]\n",
    "assert total_prix(cal, 5)  == 40\n",
    "assert total_prix(cal, 10) == 65\n",
    "assert total_prix(cal, 15) == 71\n",
    "assert total_prix(cal, 20) == 95\n",
    "assert total_prix(cal, 25) == 110\n",
    "cal = [2, 6, 11, 2, 18, 12, 12, 55, 18, 15, 15, 6, 21, 6, 21, 9, 15, 21, 2, 55, 11, 55, 55, 6, 55, 15]\n",
    "assert total_prix(cal, 0)  == 2\n",
    "assert total_prix(cal, 3)  == 11\n",
    "assert total_prix(cal, 25) == 197"
   ]
  },
  {
   "cell_type": "markdown",
   "metadata": {},
   "source": [
    "<div class = \"alert alert-info\">  \n",
    "\n",
    "**Question 7 :**\n",
    "    \n",
    "Après avoir implémenté une fonction générant des calendriers aléatoires de taille `N` passée en argument (en utilisant `randint(a, b)` et des tableaux définis en compréhension), tester votre fonction sur des calendriers de taille 40, puis 50, puis 60 etc.\n",
    "\n",
    "À partir de quelle taille de calendrier l'algorithme met-il plus de quelques secondes à s'exécuter ?"
   ]
  },
  {
   "cell_type": "code",
   "execution_count": null,
   "metadata": {},
   "outputs": [],
   "source": [
    "from random import randint\n",
    "\n",
    "def calendrier_aleatoire(N):\n",
    "    return [randint(1, 25) for _ in range(N)]\n",
    "\n",
    "c = calendrier_aleatoire(50)\n",
    "total_prix(c, 49)"
   ]
  },
  {
   "cell_type": "markdown",
   "metadata": {},
   "source": [
    "<div class = \"alert alert-warning\">\n",
    "\n",
    "\n",
    "À partir de la taille n = 50."
   ]
  },
  {
   "cell_type": "markdown",
   "metadata": {},
   "source": [
    "<div class = \"alert alert-info\">  \n",
    "\n",
    "**Question 8 :**\n",
    "    \n",
    "Dessiner soigneusement sur une feuille l'arbre des appels récursifs à `total_prix(cal, n)` lorsque l'appel principal est `total_prix(cal, 9)`. Combien d'appels sont effectués en tout (appel principal compris) ?\n",
    "    \n",
    "\n",
    "<br/>\n",
    "    \n",
    "En utilisant cet arbre récursif comme support de réflexion et de comptage, combien d'appels récursifs sont effectués lors de l'appel principal à `total_prix(cal, 10)` ? et lors de l'appel principal à `total_prix(cal, 11)` ? et pour `total_prix(cal, 12)` ? et pour `total_prix(cal, 13)` ?\n",
    "    \n",
    "En quoi ces résultats sont-ils reliés à la question précédente ?"
   ]
  },
  {
   "cell_type": "markdown",
   "metadata": {},
   "source": [
    "<div class = \"alert alert-warning\">\n",
    "\n",
    "\n",
    "<img src = \"arbre_planning_hippique.png\"/>"
   ]
  },
  {
   "cell_type": "markdown",
   "metadata": {},
   "source": [
    "<div class = \"alert alert-warning\">\n",
    "    \n",
    "En tout, 19 appels sont effectués lors de l'appel principal `total_prix(cal, 9)`.\n",
    "    \n",
    "Lors de l'appel principal `total_prix(cal, 10)`, on effectue 1 appel principal, 1 appel à `total_prix(cal, 9)` (comportant 19 appels) et 1 appel à `total_prix(6)` (comportant 7 appels - voir ci-dessous) soit 1+19+7 = 27 appels.\n",
    "    \n",
    "Pour `total_prix(11)` on effectuera 1 + 27 + 9 = 37 appels.\n",
    "    \n",
    "Pour `total_prix(12)` on en effectuera 1 + 37 + 13 = 51.\n",
    "\n",
    "Et enfin pour `total_prix(13)` on en effectuera 1 + 51 + 19 = 71.\n",
    "    \n",
    "Le nombre d'appels récursifs effectués lors de l'appel principal `total_prix(cal, n)` ne semble pas linéaire : il augmente de plus en plus vite et semble quadratique voire exponentiel. Cela explique sans doute que l'algorithme met du temps à s'exécuter même pour des valeurs de `n` petites.\n"
   ]
  },
  {
   "cell_type": "markdown",
   "metadata": {},
   "source": [
    "<div class = \"alert alert-info\">  \n",
    "\n",
    "**Question 9 :**\n",
    "    \n",
    "Compléter/modifier le code de la fonction suivante pour qu'elle renvoie le nombre d'appels récursifs effectués lors de l'appel principal à `total_prix(cal, n)` avec `n>=4`.\n",
    "    \n",
    "Combien d'appels sont effectués pour n = 100 ?\n",
    "    \n",
    "Est-ce que cela est en accord avec les deux questions précédentes ?"
   ]
  },
  {
   "cell_type": "code",
   "execution_count": null,
   "metadata": {},
   "outputs": [],
   "source": [
    "def nombre_appels(n):\n",
    "    assert n>=4\n",
    "    nb_appels = [1, 1, 1, 1]\n",
    "    for appel in range(4, n+1):\n",
    "        nb_appels.append(1 + nb_appels[XXX] + nb_appels[YYY]) # à modifier\n",
    "    return                                                    # à modifier\n",
    "\n",
    "nombre_appels(100)"
   ]
  },
  {
   "cell_type": "markdown",
   "metadata": {},
   "source": [
    " <div class = \"alert alert-warning\">\n",
    "    \n",
    "```python\n",
    "def nombre_appels(n):\n",
    "    assert n>=4\n",
    "    nb_appels = [1, 1, 1, 1]\n",
    "    for appel in range(4, n+1):\n",
    "        nb_appels.append(1 + nb_appels[appel-1] + nb_appels[appel-4]) # à modifier\n",
    "    return nb_appels[n]                                               # à modifier  \n",
    "```\n",
    "    \n",
    "Pour n = 100, 108654474368651 appels sont effectués. Ce nombre est très grand (de l'ordre de 10 puissance 14) ce qui est en accord avec les deux questions précédentes.  "
   ]
  },
  {
   "cell_type": "markdown",
   "metadata": {},
   "source": [
    "<div class = \"alert alert-info\">  \n",
    "\n",
    "**Question 10 :**\n",
    "\n",
    "\n",
    "On admet que la taille de l'arbre des appels récursifs de `planning(cal, n)` augmente lorsque `n` augmente.\n",
    "    \n",
    "- Justifier que lorsque `n` augmente de 4, la taille de l'arbre des appels récursifs de `planning(cal, n)` est au moins multipliée par deux.\n",
    "    \n",
    "- Qu'en déduit-on : que la complexité de l'algorithme récursif est au moins quadratique ou au moins exponentielle ?"
   ]
  },
  {
   "cell_type": "markdown",
   "metadata": {},
   "source": [
    " <div class = \"alert alert-warning\">\n",
    "    \n",
    "    \n",
    "L'arbre des appels récursifs de `planning(cal, n)` est constitué de sa racine et de deux arbres d'appels récursifs : celui de  `planning(cal, n-4)` et celui de `planning(cal, n-1)`.\n",
    "    \n",
    "Puisque l'arbre des appels récursifs de `planning(cal, n-1)` est plus grand que celui de `planning(cal, n-4)`, on en déduit que la taille de celui de `planning(cal, n)` est au moins égale à deux fois la taille de ceui de `planning(cal, n-4)`.\n",
    "    \n",
    "\n",
    "Lorsqu'une quantité est multipliée par un même nombre à intervalles réguliers, on est dans le cadre d'une croissance exponentielle (confère cours d'enseignement scientifique : démographie). Ici on est donc dans une croissance au moins exponentielle."
   ]
  },
  {
   "cell_type": "markdown",
   "metadata": {},
   "source": [
    "# BONUS"
   ]
  },
  {
   "cell_type": "markdown",
   "metadata": {},
   "source": [
    "<div class = \"alert alert-info\">  \n",
    "    \n",
    "**Question Bonus A :**\n",
    "\n",
    "\n",
    "Reprendre les deux questions précédentes n° 4 et 5 pour le planning optimal `planning(cal, n)` au lieu de `total_prix(cal, n)`. La relation de récursivité utilisera notamment `total_prix` ..."
   ]
  },
  {
   "cell_type": "markdown",
   "metadata": {},
   "source": [
    "<div class = \"alert alert-warning\">\n",
    "    \n",
    "\n",
    "```\n",
    "Cas de base (n<4):\n",
    "planning(cal, n) = indice j tel que cal[j] est le plus grand prix offert entre les courses de 0 à n.\n",
    "                   S'il y a deux courses offrant le même prix maximal, on choisit celle qui a lieu \n",
    "                   le plus tôt pour avoir le plus de jours de repos ensuite.\n",
    "    \n",
    "    \n",
    "Cas général (n>=4):\n",
    "planning(cal, n) = planning(cal, n-4) + [n] si total_prix(cal, n-4) +  cal[n] >  total_prix(cal, n-1)\n",
    "                 = planning(cal, n-1)       sinon\n",
    "    \n",
    "```"
   ]
  },
  {
   "cell_type": "markdown",
   "metadata": {},
   "source": [
    "<div class = \"alert alert-info\">  \n",
    "    \n",
    "**Question Bonus B ( $\\star \\star$ ):**\n",
    "\n",
    "\n",
    "Implémenter ci-dessous la fonction `planning(cal, n)` en utilisant un algorithme récursif.  \n",
    "Compte-tenu de la relation de récursivité associée au planning optimal, elle renverra à la fois le total optimal et le planning optimal."
   ]
  },
  {
   "cell_type": "markdown",
   "metadata": {},
   "source": [
    "<div class = \"alert alert-warning\">\n",
    "\n",
    "\n",
    "```python\n",
    "def planning(calendrier, jour):\n",
    "    if jour < 4:\n",
    "        total_prix_max = 0\n",
    "        for i in range(jour + 1):\n",
    "            if calendrier[i] > total_prix_max:\n",
    "                total_prix_max = calendrier[i]\n",
    "                planning_max = [i]\n",
    "        return total_prix_max, planning_max\n",
    "    else:\n",
    "        total_prix_j_moins_1, planning_j_moins_1 = planning(calendrier, jour - 1)\n",
    "        total_prix_j_moins_4, planning_j_moins_4 = planning(calendrier, jour - 4)\n",
    "        \n",
    "        if total_prix_j_moins_1 > total_prix_j_moins_4 + calendrier[jour]:\n",
    "            total_prix_max = total_prix_j_moins_1\n",
    "            planning_max = planning_j_moins_1\n",
    "            \n",
    "        else:\n",
    "            total_prix_max = total_prix_j_moins_4 + calendrier[jour]\n",
    "            planning_max = planning_j_moins_4\n",
    "            planning_max.append(jour)\n",
    "            \n",
    "        return total_prix_max, planning_max\n",
    "```"
   ]
  },
  {
   "cell_type": "code",
   "execution_count": null,
   "metadata": {},
   "outputs": [],
   "source": [
    "cal = [25, 12, 6, 9, 55, 18, 12, 15, 6, 18, 11, 21, 15, 55, 25, 18, 21, 18, 9, 21, 25, 55, 12, 11, 12, 6]\n",
    "assert planning(cal, 5)  == (80, [0, 4])\n",
    "assert planning(cal, 10) == (98, [0, 4, 9])\n",
    "assert planning(cal, 15) == (153, [0, 4, 9, 13])\n",
    "assert planning(cal, 20) == (178, [0, 4, 9, 13, 20])\n",
    "assert planning(cal, 25) == (232, [0, 4, 9, 13, 17, 21, 25])"
   ]
  }
 ],
 "metadata": {
  "kernelspec": {
   "display_name": "Python 3",
   "language": "python",
   "name": "python3"
  },
  "language_info": {
   "codemirror_mode": {
    "name": "ipython",
    "version": 3
   },
   "file_extension": ".py",
   "mimetype": "text/x-python",
   "name": "python",
   "nbconvert_exporter": "python",
   "pygments_lexer": "ipython3",
   "version": "3.8.2"
  }
 },
 "nbformat": 4,
 "nbformat_minor": 4
}
